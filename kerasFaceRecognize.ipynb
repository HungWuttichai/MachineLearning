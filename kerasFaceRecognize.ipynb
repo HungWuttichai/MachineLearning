#import-------------------
import os
import numpy as np
import cv2
from keras.datasets import cifar10
import os
import numpy as np
import cv2
from keras.datasets import cifar10
from keras.utils import multi_gpu_model
from keras.layers import Conv2D, MaxPooling2D, Dense, Dropout, AveragePooling2D, ZeroPadding2D
from keras.layers.core import Activation, Flatten
from keras.models import Sequential, load_model
from keras.callbacks import ModelCheckpoint
import matplotlib.pyplot as plt
import time
os.chdir("C:/Users/xxx/face/") #diractory

#parameter model--------------------
img_size = 50
n_classes = 10
epch = 10
batch_size = 20

#load dataset--------------------
predict_person = {0:"unknown", 1:"Hung"}

x_train = []
y_train = []
x_test = []
y_test = []

i = 0
fold_train = os.listdir("train")
for cate_train in fold_train:
    img_train = os.listdir("train/"+cate_train)
    for numImg_train in img_train:
        try:
            name = 'train/'+cate_train+'/'+numImg_train
            img_array = cv2.imread(name)/255.0
            new_array = cv2.resize(img_array, (img_size, img_size))
            x_train.append(new_array)
            y_train.append(i)
        except Exception as e:
            pass
    i += 1

j = 0
fold_test = os.listdir("test")
for cate_test in fold_train:
    img_test = os.listdir("test/"+cate_test)
    for numImg_test in img_test:
        try:
            name = 'test/'+cate_test+'/'+numImg_test
            img_array = cv2.imread(name)/255.0
            new_array = cv2.resize(img_array, (img_size, img_size))
            x_test.append(new_array)
            y_test.append(j)
        except Exception as e:
            pass
    j += 1

X_train = np.asarray(x_train).astype('float32')
Y_train = np.asarray(y_train).astype('int')
X_test = np.asarray(x_test).astype('float32')
Y_test = np.asarray(y_test).astype('int')

#creat model------------------------------
model = Sequential()

model.add(ZeroPadding2D((1,1)))
model.add(Conv2D(32, (3, 3), activation='relu', input_shape=(img_size, img_size, 3)))
model.add(MaxPooling2D(pool_size=(2, 2), strides=(2, 2))) 

model.add(ZeroPadding2D((1,1)))
model.add(Conv2D(64, (3, 3), activation='relu'))
model.add(MaxPooling2D(pool_size=(2, 2), strides=(2, 2)))

model.add(ZeroPadding2D((1,1)))
model.add(Conv2D(256, (3, 3), activation='relu'))
model.add(MaxPooling2D(pool_size=(2, 2), strides=(2, 2)))

model.add(Flatten())
model.add(Dense(512, activation='relu'))
model.add(Dropout(0.5))
model.add(Dense(128, activation='relu'))
model.add(Dropout(0.5))
model.add(Dense(n_classes, activation='softmax'))
model.compile(optimizer='adam',
              loss='sparse_categorical_crossentropy',
              metrics=['accuracy'])

filepath="weights.best.hdf5"
checkpoint = ModelCheckpoint(filepath, monitor='val_acc', verbose=1, save_best_only=True, mode='auto')
callbacks_list = [checkpoint]

model.fit(X_train, Y_train, epochs=epch, batch_size=batch_size, 
            verbose=1, validation_data=(X_test, Y_test), callbacks=callbacks_list)

model.load_weights("weights.best.hdf5")
model.save('faceRecognize.model')
print("Finished")

# test video

predict_person = {0:"unknown", 1:"Hung"}
new_model = load_model('faceRecognize.model')
face_cascade = cv2.CascadeClassifier('haarcascade_frontalface_default.xml')
cap = cv2.VideoCapture(0)

font                   = cv2.FONT_HERSHEY_SIMPLEX
fontScale              = 1
fontColor              = (255,255,255)
lineType               = 2
try:
    while(True):
        ret, img = cap.read()
        gray = cv2.cvtColor(img, cv2.COLOR_BGR2GRAY)
        faces = face_cascade.detectMultiScale(gray, 1.3, 5)
        for (x,y,w,h) in faces:
            roi_gray = gray[y:y+h, x:x+w]
            roi_color = img[y:y+h, x:x+w]

            temp1 = cv2.resize(roi_color,(img_size,img_size))/255.00
            temp2 = np.asarray(temp1).astype('float32')
            roi_face = temp2.reshape((1,img_size,img_size,3))
            predictions = new_model.predict(roi_face)
            result_predict = np.argmax(predictions, axis=1)
            
            cv2.putText(img, predict_person[result_predict[0]], (x+w,y+h), font, fontScale,fontColor,lineType)
            cv2.rectangle(img,(x,y),(x+w,y+h),(255,0,0),2)

        cv2.imshow('img',img)
        if cv2.waitKey(1) & 0xFF == ord('q'):
            break
except Exception as e:
    cap.release()
    cv2.waitKey(0)
    cv2.destroyAllWindows()
cap.release()
cv2.waitKey(0)
cv2.destroyAllWindows()
