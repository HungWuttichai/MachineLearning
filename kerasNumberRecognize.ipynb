import os
import numpy as np
import cv2
import matplotlib.pyplot as plt
from keras.datasets import cifar10
from keras.utils import multi_gpu_model
from keras.layers import Conv2D, MaxPooling2D, Dense, Dropout, AveragePooling2D, ZeroPadding2D
from keras.layers.core import Activation, Flatten
from keras.models import Sequential, load_model
from keras.callbacks import ModelCheckpoint
from sklearn.model_selection import train_test_split, StratifiedKFold

#defind parameter
os.chdir("C:/Users/xxx/number/") # directory

dataset = 120
num_test = 24
batch_size = 20
n_classes = 10
epch = 100
img_size = 28

#load dataset
x_train = []
x_test = []

for category in range(dataset):
        try:
            name = 'train/number ('+str(category)+').jpg'
            img_array = cv2.imread(name)/255.0
            new_array = cv2.resize(img_array, (img_size, img_size))
            x_train.append(new_array)
        except Exception as e:
            pass

for category in range(num_test):
        try:
            name = 'test/number ('+str(category)+').jpg'
            img_array = cv2.imread(name)/255.0 # cv2.IMREAD_GRAYSCALE
            new_array = cv2.resize(img_array, (img_size, img_size))
            x_test.append(new_array)
        except Exception as e:
            pass

X_train = np.asarray(x_train).astype('float32')
y_train = ((np.arange(dataset) % 10) / 1.0).astype('float32')
X_test = np.asarray(x_test).astype('float32')
y_test = (np.array([2, 9, 5, 7, 2, 3, 7, 4, 0, 9, 8, 5, 5, 0, 8, 7, 2, 4, 3, 5, 3, 2, 7, 3]))

#model
model = Sequential()

model.add(ZeroPadding2D((1,1)))
model.add(Conv2D(filters=32, kernel_size=(3, 3), activation='relu', input_shape=(28, 28, 3)))
model.add(ZeroPadding2D((1,1)))
model.add(Conv2D(filters=64, kernel_size=(3, 3), activation='relu'))
model.add(MaxPooling2D(pool_size=(2, 2), strides=(2, 2)))

model.add(ZeroPadding2D((1,1)))
model.add(Conv2D(filters=128, kernel_size=(3, 3), activation='relu'))
model.add(ZeroPadding2D((1,1)))
model.add(Conv2D(filters=256, kernel_size=(3, 3), activation='relu'))
model.add(MaxPooling2D(pool_size=(2, 2), strides=(2, 2)))

model.add(ZeroPadding2D((1,1)))
model.add(Conv2D(filters=512, kernel_size=(3, 3), activation='relu'))
model.add(MaxPooling2D(pool_size=(2, 2), strides=(2, 2)))

model.add(Flatten())
model.add(Dense(128, activation='relu'))
model.add(Dropout(0.25))
model.add(Dense(n_classes, activation='softmax'))
model.compile(optimizer='adam',
              loss='sparse_categorical_crossentropy',
              metrics=['accuracy'])

#train
filepath="weights.best.hdf5"
checkpoint = ModelCheckpoint(filepath, monitor='val_acc', verbose=1, save_best_only=True, mode='auto')
callbacks_list = [checkpoint]

model.fit(X_train, y_train, epochs=int(epch), batch_size=batch_size, 
            verbose=1, validation_data=(X_test, y_test), callbacks=callbacks_list)

model.load_weights("weights.best.hdf5")
model.save('model_number.model')
print("Finished")

#test model
new_model = load_model('model_number.model')
predictions = new_model.predict(X_test)
result = np.argmax(predictions, axis=1)
scores = model.evaluate(X_test, y_test, verbose=1)
print('Test_accuracy: %0.2f' % (scores[1]*100), '%')
print("Predicted", result)

#test one picture
one_model = load_model('model_number.model')

one_name = 'test/number (25).jpg'
one_img = cv2.imread(one_name)/255.0 
one_array = cv2.resize(one_img, (img_size, img_size))
x_test1 = np.asarray(one_array).astype('float32')
X_test1 = x_test1.reshape((1,28,28,3))
one_predict = one_model.predict(X_test1)
one_result = np.argmax(one_predict, axis=1)
print("Predicted :", one_result)
plt.imshow(one_img)
plt.show()
